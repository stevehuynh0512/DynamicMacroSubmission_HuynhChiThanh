{
  "nbformat": 4,
  "nbformat_minor": 0,
  "metadata": {
    "colab": {
      "provenance": []
    },
    "kernelspec": {
      "name": "python3",
      "display_name": "Python 3"
    },
    "language_info": {
      "name": "python"
    }
  },
  "cells": [
    {
      "cell_type": "code",
      "execution_count": 2,
      "metadata": {
        "colab": {
          "base_uri": "https://localhost:8080/"
        },
        "id": "y5TkjT0Rme0p",
        "outputId": "a3168fa3-dd5f-4a7a-9cf8-c45f898240bd"
      },
      "outputs": [
        {
          "output_type": "stream",
          "name": "stdout",
          "text": [
            "State equation in matrix form:\n",
            "     ⎡        α₀ + α₁⋅yₜ ₘᵢₙᵤₛ ₁ + α₂⋅cₜ ₘᵢₙᵤₛ ₁ + εₜ        ⎤\n",
            "     ⎢                                                       ⎥\n",
            "Xₜ = ⎢β₀ + β₁⋅cₜ ₘᵢₙᵤₛ ₁ + β₂⋅cₜ ₘᵢₙᵤₛ ₂ + β₃⋅yₜ ₘᵢₙᵤₛ ₁ + νₜ⎥\n",
            "     ⎢                                                       ⎥\n",
            "     ⎣                      cₜ ₘᵢₙᵤₛ ₁                       ⎦\n"
          ]
        }
      ],
      "source": [
        "import sympy as sp\n",
        "\n",
        "# Define symbolic variables\n",
        "alpha_0, alpha_1, alpha_2 = sp.symbols('alpha_0 alpha_1 alpha_2')\n",
        "beta_0, beta_1, beta_2, beta_3 = sp.symbols('beta_0 beta_1 beta_2 beta_3')\n",
        "sigma_e, sigma_v = sp.symbols('sigma_e sigma_v')\n",
        "\n",
        "# Define state vector\n",
        "X_t_minus_1 = sp.Matrix([\n",
        "    sp.symbols('y_t_minus_1'),\n",
        "    sp.symbols('c_t_minus_1'),\n",
        "    sp.symbols('c_t_minus_2')\n",
        "])\n",
        "\n",
        "# Define noise vector\n",
        "Xi_t = sp.Matrix([\n",
        "    sp.symbols('epsilon_t'),\n",
        "    sp.symbols('nu_t')\n",
        "])\n",
        "\n",
        "# Define coefficient matrices\n",
        "A = sp.Matrix([\n",
        "    [alpha_1, alpha_2, 0],\n",
        "    [beta_3, beta_1, beta_2],\n",
        "    [0, 1, 0]  # Shift mechanism for lag\n",
        "])\n",
        "\n",
        "B = sp.Matrix([\n",
        "    [alpha_0],\n",
        "    [beta_0],\n",
        "    [0]\n",
        "])\n",
        "\n",
        "C = sp.Matrix([\n",
        "    [1, 0],\n",
        "    [0, 1],\n",
        "    [0, 0]\n",
        "])\n",
        "\n",
        "# System equation in matrix form\n",
        "X_t = B + A * X_t_minus_1 + C * Xi_t\n",
        "\n",
        "print(\"State equation in matrix form:\")\n",
        "sp.pprint(sp.Eq(sp.MatrixSymbol('X_t', 3, 1), B + A * X_t_minus_1 + C * Xi_t))\n"
      ]
    }
  ]
}